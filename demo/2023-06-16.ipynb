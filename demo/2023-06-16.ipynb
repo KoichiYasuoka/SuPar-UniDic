{
  "nbformat":4,
  "nbformat_minor":0,
  "metadata":{
    "colab":{ "name":"生れ之き死に之て笑て而哭す" },
    "kernelspec":{ "name":"python3" }
  },
  "cells":[
    {
      "cell_type":"code",
      "metadata":{ "colab_type":"code" },
      "source":[
        "!pip install suparunidic\n",
        "import suparunidic\n",
        "nlp=suparunidic.load(\"kindai\")\n",
        "doc=nlp(\"生れ之き死に之て笑て而哭す\")\n",
        "import deplacy\n",
        "deplacy.serve(doc,port=None)"
      ]
    }
  ]
}

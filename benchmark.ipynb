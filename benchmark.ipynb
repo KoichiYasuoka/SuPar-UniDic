{
  "nbformat":4,
  "nbformat_minor":0,
  "metadata":{
    "colab":{ "name":"舞姬/雪國/荒野より-Benchmarks of SuPar-UniDic" },
    "kernelspec":{ "name":"python3" }
  },
  "cells":[
    {
      "cell_type":"markdown",
      "metadata":{ "colab_type":"text" },
      "source":[
        "# [舞姬/雪國/荒野より-Benchmarks](https://github.com/KoichiYasuoka/UniDic2UD/tree/master/benchmark) of [SuPar-UniDic](https://github.com/KoichiYasuoka/SuPar-UniDic)"
      ]
    },
    {
      "cell_type":"markdown",
      "metadata":{ "colab_type":"text" },
      "source":[
        "## bert-japanese-aozora6m3m-unidic32k-2m"
      ]
    },
    {
      "cell_type":"code",
      "metadata":{ "colab_type":"code" },
      "source":[
        "!pip install suparunidic\n",
        "!curl -L https://raw.githubusercontent.com/KoichiYasuoka/UniDic2UD/master/benchmark/maihime-benchmark.tar.gz | tar xzf -\n",
        "!sh benchmark.sh suparunidic 'load(\"qkana\",\"bert-japanese-aozora6m3m-unidic32k-2m\")' maihime.conllu\n",
        "!sh benchmark.sh suparunidic 'load(\"kindai\",\"bert-japanese-aozora6m3m-unidic32k-2m\")' maihime.conllu\n",
        "!sh benchmark.sh suparunidic 'load(\"kinsei\",\"bert-japanese-aozora6m3m-unidic32k-2m\")' maihime.conllu\n",
        "!curl -L https://raw.githubusercontent.com/KoichiYasuoka/UniDic2UD/master/benchmark/yukiguni-benchmark.tar.gz | tar xzf -\n",
        "!sh benchmark.sh suparunidic 'load(\"qkana\",\"bert-japanese-aozora6m3m-unidic32k-2m\")' yukiguni.conllu\n",
        "!sh benchmark.sh suparunidic 'load(\"kindai\",\"bert-japanese-aozora6m3m-unidic32k-2m\")' yukiguni.conllu\n",
        "!sh benchmark.sh suparunidic 'load(\"kinsei\",\"bert-japanese-aozora6m3m-unidic32k-2m\")' yukiguni.conllu\n",
        "!curl -L https://raw.githubusercontent.com/KoichiYasuoka/UniDic2UD/master/benchmark/koyayori-benchmark.tar.gz | tar xzf -\n",
        "!sh benchmark.sh suparunidic 'load(\"qkana\",\"bert-japanese-aozora6m3m-unidic32k-2m\")' koyayori.conllu\n",
        "!sh benchmark.sh suparunidic 'load(\"kindai\",\"bert-japanese-aozora6m3m-unidic32k-2m\")' koyayori.conllu\n",
        "!sh benchmark.sh suparunidic 'load(\"kinsei\",\"bert-japanese-aozora6m3m-unidic32k-2m\")' koyayori.conllu"
      ]
    },
    {
      "cell_type":"markdown",
      "metadata":{ "colab_type":"text" },
      "source":[
        "## roberta-large-japanese-aozora"
      ]
    },
    {
      "cell_type":"code",
      "metadata":{ "colab_type":"code" },
      "source":[
        "!pip install suparunidic\n",
        "!curl -L https://raw.githubusercontent.com/KoichiYasuoka/UniDic2UD/master/benchmark/maihime-benchmark.tar.gz | tar xzf -\n",
        "!sh benchmark.sh suparunidic 'load(\"qkana\",\"roberta-large-japanese-aozora\")' maihime.conllu\n",
        "!sh benchmark.sh suparunidic 'load(\"kindai\",\"roberta-large-japanese-aozora\")' maihime.conllu\n",
        "!sh benchmark.sh suparunidic 'load(\"kinsei\",\"roberta-large-japanese-aozora\")' maihime.conllu\n",
        "!curl -L https://raw.githubusercontent.com/KoichiYasuoka/UniDic2UD/master/benchmark/yukiguni-benchmark.tar.gz | tar xzf -\n",
        "!sh benchmark.sh suparunidic 'load(\"qkana\",\"roberta-large-japanese-aozora\")' yukiguni.conllu\n",
        "!sh benchmark.sh suparunidic 'load(\"kindai\",\"roberta-large-japanese-aozora\")' yukiguni.conllu\n",
        "!sh benchmark.sh suparunidic 'load(\"kinsei\",\"roberta-large-japanese-aozora\")' yukiguni.conllu\n",
        "!curl -L https://raw.githubusercontent.com/KoichiYasuoka/UniDic2UD/master/benchmark/koyayori-benchmark.tar.gz | tar xzf -\n",
        "!sh benchmark.sh suparunidic 'load(\"qkana\",\"roberta-large-japanese-aozora\")' koyayori.conllu\n",
        "!sh benchmark.sh suparunidic 'load(\"kindai\",\"roberta-large-japanese-aozora\")' koyayori.conllu\n",
        "!sh benchmark.sh suparunidic 'load(\"kinsei\",\"roberta-large-japanese-aozora\")' koyayori.conllu"
      ]
    },
    {
      "cell_type":"markdown",
      "metadata":{ "colab_type":"text" },
      "source":[
        "## roberta-large-japanese-aozora-char"
      ]
    },
    {
      "cell_type":"code",
      "metadata":{ "colab_type":"code" },
      "source":[
        "!pip install suparunidic\n",
        "!curl -L https://raw.githubusercontent.com/KoichiYasuoka/UniDic2UD/master/benchmark/maihime-benchmark.tar.gz | tar xzf -\n",
        "!sh benchmark.sh suparunidic 'load(\"qkana\",\"roberta-large-japanese-aozora-char\")' maihime.conllu\n",
        "!sh benchmark.sh suparunidic 'load(\"kindai\",\"roberta-large-japanese-aozora-char\")' maihime.conllu\n",
        "!sh benchmark.sh suparunidic 'load(\"kinsei\",\"roberta-large-japanese-aozora-char\")' maihime.conllu\n",
        "!curl -L https://raw.githubusercontent.com/KoichiYasuoka/UniDic2UD/master/benchmark/yukiguni-benchmark.tar.gz | tar xzf -\n",
        "!sh benchmark.sh suparunidic 'load(\"qkana\",\"roberta-large-japanese-aozora-char\")' yukiguni.conllu\n",
        "!sh benchmark.sh suparunidic 'load(\"kindai\",\"roberta-large-japanese-aozora-char\")' yukiguni.conllu\n",
        "!sh benchmark.sh suparunidic 'load(\"kinsei\",\"roberta-large-japanese-aozora-char\")' yukiguni.conllu\n",
        "!curl -L https://raw.githubusercontent.com/KoichiYasuoka/UniDic2UD/master/benchmark/koyayori-benchmark.tar.gz | tar xzf -\n",
        "!sh benchmark.sh suparunidic 'load(\"qkana\",\"roberta-large-japanese-aozora-char\")' koyayori.conllu\n",
        "!sh benchmark.sh suparunidic 'load(\"kindai\",\"roberta-large-japanese-aozora-char\")' koyayori.conllu\n",
        "!sh benchmark.sh suparunidic 'load(\"kinsei\",\"roberta-large-japanese-aozora-char\")' koyayori.conllu"
      ]
    },
    {
      "cell_type":"markdown",
      "metadata":{ "colab_type":"text" },
      "source":[
        "## roberta-base-japanese-aozora"
      ]
    },
    {
      "cell_type":"code",
      "metadata":{ "colab_type":"code" },
      "source":[
        "!pip install suparunidic\n",
        "!curl -L https://raw.githubusercontent.com/KoichiYasuoka/UniDic2UD/master/benchmark/maihime-benchmark.tar.gz | tar xzf -\n",
        "!sh benchmark.sh suparunidic 'load(\"qkana\",\"roberta-base-japanese-aozora\")' maihime.conllu\n",
        "!sh benchmark.sh suparunidic 'load(\"kindai\",\"roberta-base-japanese-aozora\")' maihime.conllu\n",
        "!sh benchmark.sh suparunidic 'load(\"kinsei\",\"roberta-base-japanese-aozora\")' maihime.conllu\n",
        "!curl -L https://raw.githubusercontent.com/KoichiYasuoka/UniDic2UD/master/benchmark/yukiguni-benchmark.tar.gz | tar xzf -\n",
        "!sh benchmark.sh suparunidic 'load(\"qkana\",\"roberta-base-japanese-aozora\")' yukiguni.conllu\n",
        "!sh benchmark.sh suparunidic 'load(\"kindai\",\"roberta-base-japanese-aozora\")' yukiguni.conllu\n",
        "!sh benchmark.sh suparunidic 'load(\"kinsei\",\"roberta-base-japanese-aozora\")' yukiguni.conllu\n",
        "!curl -L https://raw.githubusercontent.com/KoichiYasuoka/UniDic2UD/master/benchmark/koyayori-benchmark.tar.gz | tar xzf -\n",
        "!sh benchmark.sh suparunidic 'load(\"qkana\",\"roberta-base-japanese-aozora\")' koyayori.conllu\n",
        "!sh benchmark.sh suparunidic 'load(\"kindai\",\"roberta-base-japanese-aozora\")' koyayori.conllu\n",
        "!sh benchmark.sh suparunidic 'load(\"kinsei\",\"roberta-base-japanese-aozora\")' koyayori.conllu"
      ]
    },
    {
      "cell_type":"markdown",
      "metadata":{ "colab_type":"text" },
      "source":[
        "## roberta-base-japanese-aozora-char"
      ]
    },
    {
      "cell_type":"code",
      "metadata":{ "colab_type":"code" },
      "source":[
        "!pip install suparunidic\n",
        "!curl -L https://raw.githubusercontent.com/KoichiYasuoka/UniDic2UD/master/benchmark/maihime-benchmark.tar.gz | tar xzf -\n",
        "!sh benchmark.sh suparunidic 'load(\"qkana\",\"roberta-base-japanese-aozora-char\")' maihime.conllu\n",
        "!sh benchmark.sh suparunidic 'load(\"kindai\",\"roberta-base-japanese-aozora-char\")' maihime.conllu\n",
        "!sh benchmark.sh suparunidic 'load(\"kinsei\",\"roberta-base-japanese-aozora-char\")' maihime.conllu\n",
        "!curl -L https://raw.githubusercontent.com/KoichiYasuoka/UniDic2UD/master/benchmark/yukiguni-benchmark.tar.gz | tar xzf -\n",
        "!sh benchmark.sh suparunidic 'load(\"qkana\",\"roberta-base-japanese-aozora-char\")' yukiguni.conllu\n",
        "!sh benchmark.sh suparunidic 'load(\"kindai\",\"roberta-base-japanese-aozora-char\")' yukiguni.conllu\n",
        "!sh benchmark.sh suparunidic 'load(\"kinsei\",\"roberta-base-japanese-aozora-char\")' yukiguni.conllu\n",
        "!curl -L https://raw.githubusercontent.com/KoichiYasuoka/UniDic2UD/master/benchmark/koyayori-benchmark.tar.gz | tar xzf -\n",
        "!sh benchmark.sh suparunidic 'load(\"qkana\",\"roberta-base-japanese-aozora-char\")' koyayori.conllu\n",
        "!sh benchmark.sh suparunidic 'load(\"kindai\",\"roberta-base-japanese-aozora-char\")' koyayori.conllu\n",
        "!sh benchmark.sh suparunidic 'load(\"kinsei\",\"roberta-base-japanese-aozora-char\")' koyayori.conllu"
      ]
    },
    {
      "cell_type":"markdown",
      "metadata":{ "colab_type":"text" },
      "source":[
        "## roberta-small-japanese-aozora"
      ]
    },
    {
      "cell_type":"code",
      "metadata":{ "colab_type":"code" },
      "source":[
        "!pip install suparunidic\n",
        "!curl -L https://raw.githubusercontent.com/KoichiYasuoka/UniDic2UD/master/benchmark/maihime-benchmark.tar.gz | tar xzf -\n",
        "!sh benchmark.sh suparunidic 'load(\"qkana\",\"roberta-small-japanese-aozora\")' maihime.conllu\n",
        "!sh benchmark.sh suparunidic 'load(\"kindai\",\"roberta-small-japanese-aozora\")' maihime.conllu\n",
        "!sh benchmark.sh suparunidic 'load(\"kinsei\",\"roberta-small-japanese-aozora\")' maihime.conllu\n",
        "!curl -L https://raw.githubusercontent.com/KoichiYasuoka/UniDic2UD/master/benchmark/yukiguni-benchmark.tar.gz | tar xzf -\n",
        "!sh benchmark.sh suparunidic 'load(\"qkana\",\"roberta-small-japanese-aozora\")' yukiguni.conllu\n",
        "!sh benchmark.sh suparunidic 'load(\"kindai\",\"roberta-small-japanese-aozora\")' yukiguni.conllu\n",
        "!sh benchmark.sh suparunidic 'load(\"kinsei\",\"roberta-small-japanese-aozora\")' yukiguni.conllu\n",
        "!curl -L https://raw.githubusercontent.com/KoichiYasuoka/UniDic2UD/master/benchmark/koyayori-benchmark.tar.gz | tar xzf -\n",
        "!sh benchmark.sh suparunidic 'load(\"qkana\",\"roberta-small-japanese-aozora\")' koyayori.conllu\n",
        "!sh benchmark.sh suparunidic 'load(\"kindai\",\"roberta-small-japanese-aozora\")' koyayori.conllu\n",
        "!sh benchmark.sh suparunidic 'load(\"kinsei\",\"roberta-small-japanese-aozora\")' koyayori.conllu"
      ]
    },
    {
      "cell_type":"markdown",
      "metadata":{ "colab_type":"text" },
      "source":[
        "## roberta-small-japanese-aozora-char"
      ]
    },
    {
      "cell_type":"code",
      "metadata":{ "colab_type":"code" },
      "source":[
        "!pip install suparunidic\n",
        "!curl -L https://raw.githubusercontent.com/KoichiYasuoka/UniDic2UD/master/benchmark/maihime-benchmark.tar.gz | tar xzf -\n",
        "!sh benchmark.sh suparunidic 'load(\"qkana\",\"roberta-small-japanese-aozora-char\")' maihime.conllu\n",
        "!sh benchmark.sh suparunidic 'load(\"kindai\",\"roberta-small-japanese-aozora-char\")' maihime.conllu\n",
        "!sh benchmark.sh suparunidic 'load(\"kinsei\",\"roberta-small-japanese-aozora-char\")' maihime.conllu\n",
        "!curl -L https://raw.githubusercontent.com/KoichiYasuoka/UniDic2UD/master/benchmark/yukiguni-benchmark.tar.gz | tar xzf -\n",
        "!sh benchmark.sh suparunidic 'load(\"qkana\",\"roberta-small-japanese-aozora-char\")' yukiguni.conllu\n",
        "!sh benchmark.sh suparunidic 'load(\"kindai\",\"roberta-small-japanese-aozora-char\")' yukiguni.conllu\n",
        "!sh benchmark.sh suparunidic 'load(\"kinsei\",\"roberta-small-japanese-aozora-char\")' yukiguni.conllu\n",
        "!curl -L https://raw.githubusercontent.com/KoichiYasuoka/UniDic2UD/master/benchmark/koyayori-benchmark.tar.gz | tar xzf -\n",
        "!sh benchmark.sh suparunidic 'load(\"qkana\",\"roberta-small-japanese-aozora-char\")' koyayori.conllu\n",
        "!sh benchmark.sh suparunidic 'load(\"kindai\",\"roberta-small-japanese-aozora-char\")' koyayori.conllu\n",
        "!sh benchmark.sh suparunidic 'load(\"kinsei\",\"roberta-small-japanese-aozora-char\")' koyayori.conllu"
      ]
    },
    {
      "cell_type":"markdown",
      "metadata":{ "colab_type":"text" },
      "source":[
        "## bert-base-japanese-char-extended"
      ]
    },
    {
      "cell_type":"code",
      "metadata":{ "colab_type":"code" },
      "source":[
        "!pip install suparunidic\n",
        "!curl -L https://raw.githubusercontent.com/KoichiYasuoka/UniDic2UD/master/benchmark/maihime-benchmark.tar.gz | tar xzf -\n",
        "!sh benchmark.sh suparunidic 'load(\"qkana\",\"bert-base-japanese-char-extended\")' maihime.conllu\n",
        "!sh benchmark.sh suparunidic 'load(\"kindai\",\"bert-base-japanese-char-extended\")' maihime.conllu\n",
        "!sh benchmark.sh suparunidic 'load(\"kinsei\",\"bert-base-japanese-char-extended\")' maihime.conllu\n",
        "!curl -L https://raw.githubusercontent.com/KoichiYasuoka/UniDic2UD/master/benchmark/yukiguni-benchmark.tar.gz | tar xzf -\n",
        "!sh benchmark.sh suparunidic 'load(\"qkana\",\"bert-base-japanese-char-extended\")' yukiguni.conllu\n",
        "!sh benchmark.sh suparunidic 'load(\"kindai\",\"bert-base-japanese-char-extended\")' yukiguni.conllu\n",
        "!sh benchmark.sh suparunidic 'load(\"kinsei\",\"bert-base-japanese-char-extended\")' yukiguni.conllu\n",
        "!curl -L https://raw.githubusercontent.com/KoichiYasuoka/UniDic2UD/master/benchmark/koyayori-benchmark.tar.gz | tar xzf -\n",
        "!sh benchmark.sh suparunidic 'load(\"qkana\",\"bert-base-japanese-char-extended\")' koyayori.conllu\n",
        "!sh benchmark.sh suparunidic 'load(\"kindai\",\"bert-base-japanese-char-extended\")' koyayori.conllu\n",
        "!sh benchmark.sh suparunidic 'load(\"kinsei\",\"bert-base-japanese-char-extended\")' koyayori.conllu"
      ]
    },
    {
      "cell_type":"markdown",
      "metadata":{ "colab_type":"text" },
      "source":[
        "## bert-large-japanese-char-extended"
      ]
    },
    {
      "cell_type":"code",
      "metadata":{ "colab_type":"code" },
      "source":[
        "!pip install suparunidic\n",
        "!curl -L https://raw.githubusercontent.com/KoichiYasuoka/UniDic2UD/master/benchmark/maihime-benchmark.tar.gz | tar xzf -\n",
        "!sh benchmark.sh suparunidic 'load(\"qkana\",\"bert-large-japanese-char-extended\")' maihime.conllu\n",
        "!sh benchmark.sh suparunidic 'load(\"kindai\",\"bert-large-japanese-char-extended\")' maihime.conllu\n",
        "!sh benchmark.sh suparunidic 'load(\"kinsei\",\"bert-large-japanese-char-extended\")' maihime.conllu\n",
        "!curl -L https://raw.githubusercontent.com/KoichiYasuoka/UniDic2UD/master/benchmark/yukiguni-benchmark.tar.gz | tar xzf -\n",
        "!sh benchmark.sh suparunidic 'load(\"qkana\",\"bert-large-japanese-char-extended\")' yukiguni.conllu\n",
        "!sh benchmark.sh suparunidic 'load(\"kindai\",\"bert-large-japanese-char-extended\")' yukiguni.conllu\n",
        "!sh benchmark.sh suparunidic 'load(\"kinsei\",\"bert-large-japanese-char-extended\")' yukiguni.conllu\n",
        "!curl -L https://raw.githubusercontent.com/KoichiYasuoka/UniDic2UD/master/benchmark/koyayori-benchmark.tar.gz | tar xzf -\n",
        "!sh benchmark.sh suparunidic 'load(\"qkana\",\"bert-large-japanese-char-extended\")' koyayori.conllu\n",
        "!sh benchmark.sh suparunidic 'load(\"kindai\",\"bert-large-japanese-char-extended\")' koyayori.conllu\n",
        "!sh benchmark.sh suparunidic 'load(\"kinsei\",\"bert-large-japanese-char-extended\")' koyayori.conllu"
      ]
    },
    {
      "cell_type":"markdown",
      "metadata":{ "colab_type":"text" },
      "source":[
        "## bert-base-japanese-char"
      ]
    },
    {
      "cell_type":"code",
      "metadata":{ "colab_type":"code" },
      "source":[
        "!pip install suparunidic fugashi ipadic\n",
        "!curl -L https://raw.githubusercontent.com/KoichiYasuoka/UniDic2UD/master/benchmark/maihime-benchmark.tar.gz | tar xzf -\n",
        "!sh benchmark.sh suparunidic 'load(\"qkana\",\"bert-base-japanese-char\")' maihime.conllu\n",
        "!sh benchmark.sh suparunidic 'load(\"kindai\",\"bert-base-japanese-char\")' maihime.conllu\n",
        "!sh benchmark.sh suparunidic 'load(\"kinsei\",\"bert-base-japanese-char\")' maihime.conllu\n",
        "!curl -L https://raw.githubusercontent.com/KoichiYasuoka/UniDic2UD/master/benchmark/yukiguni-benchmark.tar.gz | tar xzf -\n",
        "!sh benchmark.sh suparunidic 'load(\"qkana\",\"bert-base-japanese-char\")' yukiguni.conllu\n",
        "!sh benchmark.sh suparunidic 'load(\"kindai\",\"bert-base-japanese-char\")' yukiguni.conllu\n",
        "!sh benchmark.sh suparunidic 'load(\"kinsei\",\"bert-base-japanese-char\")' yukiguni.conllu\n",
        "!curl -L https://raw.githubusercontent.com/KoichiYasuoka/UniDic2UD/master/benchmark/koyayori-benchmark.tar.gz | tar xzf -\n",
        "!sh benchmark.sh suparunidic 'load(\"qkana\",\"bert-base-japanese-char\")' koyayori.conllu\n",
        "!sh benchmark.sh suparunidic 'load(\"kindai\",\"bert-base-japanese-char\")' koyayori.conllu\n",
        "!sh benchmark.sh suparunidic 'load(\"kinsei\",\"bert-base-japanese-char\")' koyayori.conllu"
      ]
    },
    {
      "cell_type":"markdown",
      "metadata":{ "colab_type":"text" },
      "source":[
        "## bert-base-japanese-whole-word-masking"
      ]
    },
    {
      "cell_type":"code",
      "metadata":{ "colab_type":"code" },
      "source":[
        "!pip install suparunidic fugashi ipadic\n",
        "!curl -L https://raw.githubusercontent.com/KoichiYasuoka/UniDic2UD/master/benchmark/maihime-benchmark.tar.gz | tar xzf -\n",
        "!sh benchmark.sh suparunidic 'load(\"qkana\",\"bert-base-japanese-whole-word-masking\")' maihime.conllu\n",
        "!sh benchmark.sh suparunidic 'load(\"kindai\",\"bert-base-japanese-whole-word-masking\")' maihime.conllu\n",
        "!sh benchmark.sh suparunidic 'load(\"kinsei\",\"bert-base-japanese-whole-word-masking\")' maihime.conllu\n",
        "!curl -L https://raw.githubusercontent.com/KoichiYasuoka/UniDic2UD/master/benchmark/yukiguni-benchmark.tar.gz | tar xzf -\n",
        "!sh benchmark.sh suparunidic 'load(\"qkana\",\"bert-base-japanese-whole-word-masking\")' yukiguni.conllu\n",
        "!sh benchmark.sh suparunidic 'load(\"kindai\",\"bert-base-japanese-whole-word-masking\")' yukiguni.conllu\n",
        "!sh benchmark.sh suparunidic 'load(\"kinsei\",\"bert-base-japanese-whole-word-masking\")' yukiguni.conllu\n",
        "!curl -L https://raw.githubusercontent.com/KoichiYasuoka/UniDic2UD/master/benchmark/koyayori-benchmark.tar.gz | tar xzf -\n",
        "!sh benchmark.sh suparunidic 'load(\"qkana\",\"bert-base-japanese-whole-word-masking\")' koyayori.conllu\n",
        "!sh benchmark.sh suparunidic 'load(\"kindai\",\"bert-base-japanese-whole-word-masking\")' koyayori.conllu\n",
        "!sh benchmark.sh suparunidic 'load(\"kinsei\",\"bert-base-japanese-whole-word-masking\")' koyayori.conllu"
      ]
    },
    {
      "cell_type":"markdown",
      "metadata":{ "colab_type":"text" },
      "source":[
        "## bert-large-japanese"
      ]
    },
    {
      "cell_type":"code",
      "metadata":{ "colab_type":"code" },
      "source":[
        "!pip install suparunidic fugashi\n",
        "!curl -L https://raw.githubusercontent.com/KoichiYasuoka/UniDic2UD/master/benchmark/maihime-benchmark.tar.gz | tar xzf -\n",
        "!sh benchmark.sh suparunidic 'load(\"qkana\",\"bert-large-japanese\")' maihime.conllu\n",
        "!sh benchmark.sh suparunidic 'load(\"kindai\",\"bert-large-japanese\")' maihime.conllu\n",
        "!sh benchmark.sh suparunidic 'load(\"kinsei\",\"bert-large-japanese\")' maihime.conllu\n",
        "!curl -L https://raw.githubusercontent.com/KoichiYasuoka/UniDic2UD/master/benchmark/yukiguni-benchmark.tar.gz | tar xzf -\n",
        "!sh benchmark.sh suparunidic 'load(\"qkana\",\"bert-large-japanese\")' yukiguni.conllu\n",
        "!sh benchmark.sh suparunidic 'load(\"kindai\",\"bert-large-japanese\")' yukiguni.conllu\n",
        "!sh benchmark.sh suparunidic 'load(\"kinsei\",\"bert-large-japanese\")' yukiguni.conllu\n",
        "!curl -L https://raw.githubusercontent.com/KoichiYasuoka/UniDic2UD/master/benchmark/koyayori-benchmark.tar.gz | tar xzf -\n",
        "!sh benchmark.sh suparunidic 'load(\"qkana\",\"bert-large-japanese\")' koyayori.conllu\n",
        "!sh benchmark.sh suparunidic 'load(\"kindai\",\"bert-large-japanese\")' koyayori.conllu\n",
        "!sh benchmark.sh suparunidic 'load(\"kinsei\",\"bert-large-japanese\")' koyayori.conllu"
      ]
    },
    {
      "cell_type":"markdown",
      "metadata":{ "colab_type":"text" },
      "source":[
        "## bert-large-japanese-char"
      ]
    },
    {
      "cell_type":"code",
      "metadata":{ "colab_type":"code" },
      "source":[
        "!pip install suparunidic fugashi\n",
        "!curl -L https://raw.githubusercontent.com/KoichiYasuoka/UniDic2UD/master/benchmark/maihime-benchmark.tar.gz | tar xzf -\n",
        "!sh benchmark.sh suparunidic 'load(\"qkana\",\"bert-large-japanese-char\")' maihime.conllu\n",
        "!sh benchmark.sh suparunidic 'load(\"kindai\",\"bert-large-japanese-char\")' maihime.conllu\n",
        "!sh benchmark.sh suparunidic 'load(\"kinsei\",\"bert-large-japanese-char\")' maihime.conllu\n",
        "!curl -L https://raw.githubusercontent.com/KoichiYasuoka/UniDic2UD/master/benchmark/yukiguni-benchmark.tar.gz | tar xzf -\n",
        "!sh benchmark.sh suparunidic 'load(\"qkana\",\"bert-large-japanese-char\")' yukiguni.conllu\n",
        "!sh benchmark.sh suparunidic 'load(\"kindai\",\"bert-large-japanese-char\")' yukiguni.conllu\n",
        "!sh benchmark.sh suparunidic 'load(\"kinsei\",\"bert-large-japanese-char\")' yukiguni.conllu\n",
        "!curl -L https://raw.githubusercontent.com/KoichiYasuoka/UniDic2UD/master/benchmark/koyayori-benchmark.tar.gz | tar xzf -\n",
        "!sh benchmark.sh suparunidic 'load(\"qkana\",\"bert-large-japanese-char\")' koyayori.conllu\n",
        "!sh benchmark.sh suparunidic 'load(\"kindai\",\"bert-large-japanese-char\")' koyayori.conllu\n",
        "!sh benchmark.sh suparunidic 'load(\"kinsei\",\"bert-large-japanese-char\")' koyayori.conllu"
      ]
    },
    {
      "cell_type":"markdown",
      "metadata":{ "colab_type":"text" },
      "source":[
        "## roberta-base-japanese"
      ]
    },
    {
      "cell_type":"code",
      "metadata":{ "colab_type":"code" },
      "source":[
        "!pip install suparunidic sentencepiece\n",
        "!curl -L https://raw.githubusercontent.com/KoichiYasuoka/UniDic2UD/master/benchmark/maihime-benchmark.tar.gz | tar xzf -\n",
        "!sh benchmark.sh suparunidic 'load(\"qkana\",\"roberta-base-japanese\")' maihime.conllu\n",
        "!sh benchmark.sh suparunidic 'load(\"kindai\",\"roberta-base-japanese\")' maihime.conllu\n",
        "!sh benchmark.sh suparunidic 'load(\"kinsei\",\"roberta-base-japanese\")' maihime.conllu\n",
        "!curl -L https://raw.githubusercontent.com/KoichiYasuoka/UniDic2UD/master/benchmark/yukiguni-benchmark.tar.gz | tar xzf -\n",
        "!sh benchmark.sh suparunidic 'load(\"qkana\",\"roberta-base-japanese\")' yukiguni.conllu\n",
        "!sh benchmark.sh suparunidic 'load(\"kindai\",\"roberta-base-japanese\")' yukiguni.conllu\n",
        "!sh benchmark.sh suparunidic 'load(\"kinsei\",\"roberta-base-japanese\")' yukiguni.conllu\n",
        "!curl -L https://raw.githubusercontent.com/KoichiYasuoka/UniDic2UD/master/benchmark/koyayori-benchmark.tar.gz | tar xzf -\n",
        "!sh benchmark.sh suparunidic 'load(\"qkana\",\"roberta-base-japanese\")' koyayori.conllu\n",
        "!sh benchmark.sh suparunidic 'load(\"kindai\",\"roberta-base-japanese\")' koyayori.conllu\n",
        "!sh benchmark.sh suparunidic 'load(\"kinsei\",\"roberta-base-japanese\")' koyayori.conllu"
      ]
    },
    {
      "cell_type":"markdown",
      "metadata":{ "colab_type":"text" },
      "source":[
        "## roberta-large-japanese"
      ]
    },
    {
      "cell_type":"code",
      "metadata":{ "colab_type":"code" },
      "source":[
        "!pip install suparunidic sentencepiece\n",
        "!curl -L https://raw.githubusercontent.com/KoichiYasuoka/UniDic2UD/master/benchmark/maihime-benchmark.tar.gz | tar xzf -\n",
        "!sh benchmark.sh suparunidic 'load(\"qkana\",\"roberta-large-japanese\")' maihime.conllu\n",
        "!sh benchmark.sh suparunidic 'load(\"kindai\",\"roberta-large-japanese\")' maihime.conllu\n",
        "!sh benchmark.sh suparunidic 'load(\"kinsei\",\"roberta-large-japanese\")' maihime.conllu\n",
        "!curl -L https://raw.githubusercontent.com/KoichiYasuoka/UniDic2UD/master/benchmark/yukiguni-benchmark.tar.gz | tar xzf -\n",
        "!sh benchmark.sh suparunidic 'load(\"qkana\",\"roberta-large-japanese\")' yukiguni.conllu\n",
        "!sh benchmark.sh suparunidic 'load(\"kindai\",\"roberta-large-japanese\")' yukiguni.conllu\n",
        "!sh benchmark.sh suparunidic 'load(\"kinsei\",\"roberta-large-japanese\")' yukiguni.conllu\n",
        "!curl -L https://raw.githubusercontent.com/KoichiYasuoka/UniDic2UD/master/benchmark/koyayori-benchmark.tar.gz | tar xzf -\n",
        "!sh benchmark.sh suparunidic 'load(\"qkana\",\"roberta-large-japanese\")' koyayori.conllu\n",
        "!sh benchmark.sh suparunidic 'load(\"kindai\",\"roberta-large-japanese\")' koyayori.conllu\n",
        "!sh benchmark.sh suparunidic 'load(\"kinsei\",\"roberta-large-japanese\")' koyayori.conllu"
      ]
    },
    {
      "cell_type":"markdown",
      "metadata":{ "colab_type":"text" },
      "source":[
        "## electra-base-japanese-discriminator"
      ]
    },
    {
      "cell_type":"code",
      "metadata":{ "colab_type":"code" },
      "source":[
        "!pip install suparunidic fugashi ipadic\n",
        "!curl -L https://raw.githubusercontent.com/KoichiYasuoka/UniDic2UD/master/benchmark/maihime-benchmark.tar.gz | tar xzf -\n",
        "!sh benchmark.sh suparunidic 'load(\"qkana\",\"electra-base-japanese-discriminator\")' maihime.conllu\n",
        "!sh benchmark.sh suparunidic 'load(\"kindai\",\"electra-base-japanese-discriminator\")' maihime.conllu\n",
        "!sh benchmark.sh suparunidic 'load(\"kinsei\",\"electra-base-japanese-discriminator\")' maihime.conllu\n",
        "!curl -L https://raw.githubusercontent.com/KoichiYasuoka/UniDic2UD/master/benchmark/yukiguni-benchmark.tar.gz | tar xzf -\n",
        "!sh benchmark.sh suparunidic 'load(\"qkana\",\"electra-base-japanese-discriminator\")' yukiguni.conllu\n",
        "!sh benchmark.sh suparunidic 'load(\"kindai\",\"electra-base-japanese-discriminator\")' yukiguni.conllu\n",
        "!sh benchmark.sh suparunidic 'load(\"kinsei\",\"electra-base-japanese-discriminator\")' yukiguni.conllu\n",
        "!curl -L https://raw.githubusercontent.com/KoichiYasuoka/UniDic2UD/master/benchmark/koyayori-benchmark.tar.gz | tar xzf -\n",
        "!sh benchmark.sh suparunidic 'load(\"qkana\",\"electra-base-japanese-discriminator\")' koyayori.conllu\n",
        "!sh benchmark.sh suparunidic 'load(\"kindai\",\"electra-base-japanese-discriminator\")' koyayori.conllu\n",
        "!sh benchmark.sh suparunidic 'load(\"kinsei\",\"electra-base-japanese-discriminator\")' koyayori.conllu"
      ]
    },
    {
      "cell_type":"markdown",
      "metadata":{ "colab_type":"text" },
      "source":[
        "## bert-small-japanese"
      ]
    },
    {
      "cell_type":"code",
      "metadata":{ "colab_type":"code" },
      "source":[
        "!pip install suparunidic fugashi ipadic\n",
        "!curl -L https://raw.githubusercontent.com/KoichiYasuoka/UniDic2UD/master/benchmark/maihime-benchmark.tar.gz | tar xzf -\n",
        "!sh benchmark.sh suparunidic 'load(\"qkana\",\"bert-small-japanese\")' maihime.conllu\n",
        "!sh benchmark.sh suparunidic 'load(\"kindai\",\"bert-small-japanese\")' maihime.conllu\n",
        "!sh benchmark.sh suparunidic 'load(\"kinsei\",\"bert-small-japanese\")' maihime.conllu\n",
        "!curl -L https://raw.githubusercontent.com/KoichiYasuoka/UniDic2UD/master/benchmark/yukiguni-benchmark.tar.gz | tar xzf -\n",
        "!sh benchmark.sh suparunidic 'load(\"qkana\",\"bert-small-japanese\")' yukiguni.conllu\n",
        "!sh benchmark.sh suparunidic 'load(\"kindai\",\"bert-small-japanese\")' yukiguni.conllu\n",
        "!sh benchmark.sh suparunidic 'load(\"kinsei\",\"bert-small-japanese\")' yukiguni.conllu\n",
        "!curl -L https://raw.githubusercontent.com/KoichiYasuoka/UniDic2UD/master/benchmark/koyayori-benchmark.tar.gz | tar xzf -\n",
        "!sh benchmark.sh suparunidic 'load(\"qkana\",\"bert-small-japanese\")' koyayori.conllu\n",
        "!sh benchmark.sh suparunidic 'load(\"kindai\",\"bert-small-japanese\")' koyayori.conllu\n",
        "!sh benchmark.sh suparunidic 'load(\"kinsei\",\"bert-small-japanese\")' koyayori.conllu"
      ]
    },
    {
      "cell_type":"markdown",
      "metadata":{ "colab_type":"text" },
      "source":[
        "## electra-base-japanese-generator"
      ]
    },
    {
      "cell_type":"code",
      "metadata":{ "colab_type":"code" },
      "source":[
        "!pip install suparunidic fugashi ipadic\n",
        "!curl -L https://raw.githubusercontent.com/KoichiYasuoka/UniDic2UD/master/benchmark/maihime-benchmark.tar.gz | tar xzf -\n",
        "!sh benchmark.sh suparunidic 'load(\"qkana\",\"electra-base-japanese-generator\")' maihime.conllu\n",
        "!sh benchmark.sh suparunidic 'load(\"kindai\",\"electra-base-japanese-generator\")' maihime.conllu\n",
        "!sh benchmark.sh suparunidic 'load(\"kinsei\",\"electra-base-japanese-generator\")' maihime.conllu\n",
        "!curl -L https://raw.githubusercontent.com/KoichiYasuoka/UniDic2UD/master/benchmark/yukiguni-benchmark.tar.gz | tar xzf -\n",
        "!sh benchmark.sh suparunidic 'load(\"qkana\",\"electra-base-japanese-generator\")' yukiguni.conllu\n",
        "!sh benchmark.sh suparunidic 'load(\"kindai\",\"electra-base-japanese-generator\")' yukiguni.conllu\n",
        "!sh benchmark.sh suparunidic 'load(\"kinsei\",\"electra-base-japanese-generator\")' yukiguni.conllu\n",
        "!curl -L https://raw.githubusercontent.com/KoichiYasuoka/UniDic2UD/master/benchmark/koyayori-benchmark.tar.gz | tar xzf -\n",
        "!sh benchmark.sh suparunidic 'load(\"qkana\",\"electra-base-japanese-generator\")' koyayori.conllu\n",
        "!sh benchmark.sh suparunidic 'load(\"kindai\",\"electra-base-japanese-generator\")' koyayori.conllu\n",
        "!sh benchmark.sh suparunidic 'load(\"kinsei\",\"electra-base-japanese-generator\")' koyayori.conllu"
      ]
    },
    {
      "cell_type":"markdown",
      "metadata":{ "colab_type":"text" },
      "source":[
        "## japanese-roberta-base"
      ]
    },
    {
      "cell_type":"code",
      "metadata":{ "colab_type":"code" },
      "source":[
        "!pip install suparunidic sentencepiece\n",
        "!curl -L https://raw.githubusercontent.com/KoichiYasuoka/UniDic2UD/master/benchmark/maihime-benchmark.tar.gz | tar xzf -\n",
        "!sh benchmark.sh suparunidic 'load(\"qkana\",\"japanese-roberta-base\")' maihime.conllu\n",
        "!sh benchmark.sh suparunidic 'load(\"kindai\",\"japanese-roberta-base\")' maihime.conllu\n",
        "!sh benchmark.sh suparunidic 'load(\"kinsei\",\"japanese-roberta-base\")' maihime.conllu\n",
        "!curl -L https://raw.githubusercontent.com/KoichiYasuoka/UniDic2UD/master/benchmark/yukiguni-benchmark.tar.gz | tar xzf -\n",
        "!sh benchmark.sh suparunidic 'load(\"qkana\",\"japanese-roberta-base\")' yukiguni.conllu\n",
        "!sh benchmark.sh suparunidic 'load(\"kindai\",\"japanese-roberta-base\")' yukiguni.conllu\n",
        "!sh benchmark.sh suparunidic 'load(\"kinsei\",\"japanese-roberta-base\")' yukiguni.conllu\n",
        "!curl -L https://raw.githubusercontent.com/KoichiYasuoka/UniDic2UD/master/benchmark/koyayori-benchmark.tar.gz | tar xzf -\n",
        "!sh benchmark.sh suparunidic 'load(\"qkana\",\"japanese-roberta-base\")' koyayori.conllu\n",
        "!sh benchmark.sh suparunidic 'load(\"kindai\",\"japanese-roberta-base\")' koyayori.conllu\n",
        "!sh benchmark.sh suparunidic 'load(\"kinsei\",\"japanese-roberta-base\")' koyayori.conllu"
      ]
    },
    {
      "cell_type":"markdown",
      "metadata":{ "colab_type":"text" },
      "source":[
        "## albert-japanese-v2"
      ]
    },
    {
      "cell_type":"code",
      "metadata":{ "colab_type":"code" },
      "source":[
        "!pip install suparunidic sentencepiece\n",
        "!curl -L https://raw.githubusercontent.com/KoichiYasuoka/UniDic2UD/master/benchmark/maihime-benchmark.tar.gz | tar xzf -\n",
        "!sh benchmark.sh suparunidic 'load(\"qkana\",\"albert-japanese-v2\")' maihime.conllu\n",
        "!sh benchmark.sh suparunidic 'load(\"kindai\",\"albert-japanese-v2\")' maihime.conllu\n",
        "!sh benchmark.sh suparunidic 'load(\"kinsei\",\"albert-japanese-v2\")' maihime.conllu\n",
        "!curl -L https://raw.githubusercontent.com/KoichiYasuoka/UniDic2UD/master/benchmark/yukiguni-benchmark.tar.gz | tar xzf -\n",
        "!sh benchmark.sh suparunidic 'load(\"qkana\",\"albert-japanese-v2\")' yukiguni.conllu\n",
        "!sh benchmark.sh suparunidic 'load(\"kindai\",\"albert-japanese-v2\")' yukiguni.conllu\n",
        "!sh benchmark.sh suparunidic 'load(\"kinsei\",\"albert-japanese-v2\")' yukiguni.conllu\n",
        "!curl -L https://raw.githubusercontent.com/KoichiYasuoka/UniDic2UD/master/benchmark/koyayori-benchmark.tar.gz | tar xzf -\n",
        "!sh benchmark.sh suparunidic 'load(\"qkana\",\"albert-japanese-v2\")' koyayori.conllu\n",
        "!sh benchmark.sh suparunidic 'load(\"kindai\",\"albert-japanese-v2\")' koyayori.conllu\n",
        "!sh benchmark.sh suparunidic 'load(\"kinsei\",\"albert-japanese-v2\")' koyayori.conllu"
      ]
    },
    {
      "cell_type":"markdown",
      "metadata":{ "colab_type":"text" },
      "source":[
        "## albert-base-japanese-v1"
      ]
    },
    {
      "cell_type":"code",
      "metadata":{ "colab_type":"code" },
      "source":[
        "!pip install suparunidic\n",
        "!curl -L https://raw.githubusercontent.com/KoichiYasuoka/UniDic2UD/master/benchmark/maihime-benchmark.tar.gz | tar xzf -\n",
        "!sh benchmark.sh suparunidic 'load(\"qkana\",\"albert-base-japanese-v1\")' maihime.conllu\n",
        "!sh benchmark.sh suparunidic 'load(\"kindai\",\"albert-base-japanese-v1\")' maihime.conllu\n",
        "!sh benchmark.sh suparunidic 'load(\"kinsei\",\"albert-base-japanese-v1\")' maihime.conllu\n",
        "!curl -L https://raw.githubusercontent.com/KoichiYasuoka/UniDic2UD/master/benchmark/yukiguni-benchmark.tar.gz | tar xzf -\n",
        "!sh benchmark.sh suparunidic 'load(\"qkana\",\"albert-base-japanese-v1\")' yukiguni.conllu\n",
        "!sh benchmark.sh suparunidic 'load(\"kindai\",\"albert-base-japanese-v1\")' yukiguni.conllu\n",
        "!sh benchmark.sh suparunidic 'load(\"kinsei\",\"albert-base-japanese-v1\")' yukiguni.conllu\n",
        "!curl -L https://raw.githubusercontent.com/KoichiYasuoka/UniDic2UD/master/benchmark/koyayori-benchmark.tar.gz | tar xzf -\n",
        "!sh benchmark.sh suparunidic 'load(\"qkana\",\"albert-base-japanese-v1\")' koyayori.conllu\n",
        "!sh benchmark.sh suparunidic 'load(\"kindai\",\"albert-base-japanese-v1\")' koyayori.conllu\n",
        "!sh benchmark.sh suparunidic 'load(\"kinsei\",\"albert-base-japanese-v1\")' koyayori.conllu"
      ]
    },
    {
      "cell_type":"markdown",
      "metadata":{ "colab_type":"text" },
      "source":[
        "## electra-small-japanese-discriminator"
      ]
    },
    {
      "cell_type":"code",
      "metadata":{ "colab_type":"code" },
      "source":[
        "!pip install suparunidic\n",
        "!curl -L https://raw.githubusercontent.com/KoichiYasuoka/UniDic2UD/master/benchmark/maihime-benchmark.tar.gz | tar xzf -\n",
        "!sh benchmark.sh suparunidic 'load(\"qkana\",\"electra-small-japanese-discriminator\")' maihime.conllu\n",
        "!sh benchmark.sh suparunidic 'load(\"kindai\",\"electra-small-japanese-discriminator\")' maihime.conllu\n",
        "!sh benchmark.sh suparunidic 'load(\"kinsei\",\"electra-small-japanese-discriminator\")' maihime.conllu\n",
        "!curl -L https://raw.githubusercontent.com/KoichiYasuoka/UniDic2UD/master/benchmark/yukiguni-benchmark.tar.gz | tar xzf -\n",
        "!sh benchmark.sh suparunidic 'load(\"qkana\",\"electra-small-japanese-discriminator\")' yukiguni.conllu\n",
        "!sh benchmark.sh suparunidic 'load(\"kindai\",\"electra-small-japanese-discriminator\")' yukiguni.conllu\n",
        "!sh benchmark.sh suparunidic 'load(\"kinsei\",\"electra-small-japanese-discriminator\")' yukiguni.conllu\n",
        "!curl -L https://raw.githubusercontent.com/KoichiYasuoka/UniDic2UD/master/benchmark/koyayori-benchmark.tar.gz | tar xzf -\n",
        "!sh benchmark.sh suparunidic 'load(\"qkana\",\"electra-small-japanese-discriminator\")' koyayori.conllu\n",
        "!sh benchmark.sh suparunidic 'load(\"kindai\",\"electra-small-japanese-discriminator\")' koyayori.conllu\n",
        "!sh benchmark.sh suparunidic 'load(\"kinsei\",\"electra-small-japanese-discriminator\")' koyayori.conllu"
      ]
    },
    {
      "cell_type":"markdown",
      "metadata":{ "colab_type":"text" },
      "source":[
        "## electra-small-japanese-generator"
      ]
    },
    {
      "cell_type":"code",
      "metadata":{ "colab_type":"code" },
      "source":[
        "!pip install suparunidic\n",
        "!curl -L https://raw.githubusercontent.com/KoichiYasuoka/UniDic2UD/master/benchmark/maihime-benchmark.tar.gz | tar xzf -\n",
        "!sh benchmark.sh suparunidic 'load(\"qkana\",\"electra-small-japanese-generator\")' maihime.conllu\n",
        "!sh benchmark.sh suparunidic 'load(\"kindai\",\"electra-small-japanese-generator\")' maihime.conllu\n",
        "!sh benchmark.sh suparunidic 'load(\"kinsei\",\"electra-small-japanese-generator\")' maihime.conllu\n",
        "!curl -L https://raw.githubusercontent.com/KoichiYasuoka/UniDic2UD/master/benchmark/yukiguni-benchmark.tar.gz | tar xzf -\n",
        "!sh benchmark.sh suparunidic 'load(\"qkana\",\"electra-small-japanese-generator\")' yukiguni.conllu\n",
        "!sh benchmark.sh suparunidic 'load(\"kindai\",\"electra-small-japanese-generator\")' yukiguni.conllu\n",
        "!sh benchmark.sh suparunidic 'load(\"kinsei\",\"electra-small-japanese-generator\")' yukiguni.conllu\n",
        "!curl -L https://raw.githubusercontent.com/KoichiYasuoka/UniDic2UD/master/benchmark/koyayori-benchmark.tar.gz | tar xzf -\n",
        "!sh benchmark.sh suparunidic 'load(\"qkana\",\"electra-small-japanese-generator\")' koyayori.conllu\n",
        "!sh benchmark.sh suparunidic 'load(\"kindai\",\"electra-small-japanese-generator\")' koyayori.conllu\n",
        "!sh benchmark.sh suparunidic 'load(\"kinsei\",\"electra-small-japanese-generator\")' koyayori.conllu"
      ]
    },
    {
      "cell_type":"markdown",
      "metadata":{ "colab_type":"text" },
      "source":[
        "## ku-bert-japanese-large"
      ]
    },
    {
      "cell_type":"code",
      "metadata":{ "colab_type":"code" },
      "source":[
        "!pip install suparunidic\n",
        "!curl -L https://raw.githubusercontent.com/KoichiYasuoka/UniDic2UD/master/benchmark/maihime-benchmark.tar.gz | tar xzf -\n",
        "!sh benchmark.sh suparunidic 'load(\"qkana\",\"ku-bert-japanese-large\")' maihime.conllu\n",
        "!sh benchmark.sh suparunidic 'load(\"kindai\",\"ku-bert-japanese-large\")' maihime.conllu\n",
        "!sh benchmark.sh suparunidic 'load(\"kinsei\",\"ku-bert-japanese-large\")' maihime.conllu\n",
        "!curl -L https://raw.githubusercontent.com/KoichiYasuoka/UniDic2UD/master/benchmark/yukiguni-benchmark.tar.gz | tar xzf -\n",
        "!sh benchmark.sh suparunidic 'load(\"qkana\",\"ku-bert-japanese-large\")' yukiguni.conllu\n",
        "!sh benchmark.sh suparunidic 'load(\"kindai\",\"ku-bert-japanese-large\")' yukiguni.conllu\n",
        "!sh benchmark.sh suparunidic 'load(\"kinsei\",\"ku-bert-japanese-large\")' yukiguni.conllu\n",
        "!curl -L https://raw.githubusercontent.com/KoichiYasuoka/UniDic2UD/master/benchmark/koyayori-benchmark.tar.gz | tar xzf -\n",
        "!sh benchmark.sh suparunidic 'load(\"qkana\",\"ku-bert-japanese-large\")' koyayori.conllu\n",
        "!sh benchmark.sh suparunidic 'load(\"kindai\",\"ku-bert-japanese-large\")' koyayori.conllu\n",
        "!sh benchmark.sh suparunidic 'load(\"kinsei\",\"ku-bert-japanese-large\")' koyayori.conllu"
      ]
    },
    {
      "cell_type":"markdown",
      "metadata":{ "colab_type":"text" },
      "source":[
        "## bert-base-ja-cased"
      ]
    },
    {
      "cell_type":"code",
      "metadata":{ "colab_type":"code" },
      "source":[
        "!pip install suparunidic\n",
        "!curl -L https://raw.githubusercontent.com/KoichiYasuoka/UniDic2UD/master/benchmark/maihime-benchmark.tar.gz | tar xzf -\n",
        "!sh benchmark.sh suparunidic 'load(\"qkana\",\"bert-base-ja-cased\")' maihime.conllu\n",
        "!sh benchmark.sh suparunidic 'load(\"kindai\",\"bert-base-ja-cased\")' maihime.conllu\n",
        "!sh benchmark.sh suparunidic 'load(\"kinsei\",\"bert-base-ja-cased\")' maihime.conllu\n",
        "!curl -L https://raw.githubusercontent.com/KoichiYasuoka/UniDic2UD/master/benchmark/yukiguni-benchmark.tar.gz | tar xzf -\n",
        "!sh benchmark.sh suparunidic 'load(\"qkana\",\"bert-base-ja-cased\")' yukiguni.conllu\n",
        "!sh benchmark.sh suparunidic 'load(\"kindai\",\"bert-base-ja-cased\")' yukiguni.conllu\n",
        "!sh benchmark.sh suparunidic 'load(\"kinsei\",\"bert-base-ja-cased\")' yukiguni.conllu\n",
        "!curl -L https://raw.githubusercontent.com/KoichiYasuoka/UniDic2UD/master/benchmark/koyayori-benchmark.tar.gz | tar xzf -\n",
        "!sh benchmark.sh suparunidic 'load(\"qkana\",\"bert-base-ja-cased\")' koyayori.conllu\n",
        "!sh benchmark.sh suparunidic 'load(\"kindai\",\"bert-base-ja-cased\")' koyayori.conllu\n",
        "!sh benchmark.sh suparunidic 'load(\"kinsei\",\"bert-base-ja-cased\")' koyayori.conllu"
      ]
    },
    {
      "cell_type":"markdown",
      "metadata":{ "colab_type":"text" },
      "source":[
        "## laboro-bert-japanese-large"
      ]
    },
    {
      "cell_type":"code",
      "metadata":{ "colab_type":"code" },
      "source":[
        "!pip install suparunidic\n",
        "!curl -L https://raw.githubusercontent.com/KoichiYasuoka/UniDic2UD/master/benchmark/maihime-benchmark.tar.gz | tar xzf -\n",
        "!sh benchmark.sh suparunidic 'load(\"qkana\",\"laboro-bert-japanese-large\")' maihime.conllu\n",
        "!sh benchmark.sh suparunidic 'load(\"kindai\",\"laboro-bert-japanese-large\")' maihime.conllu\n",
        "!sh benchmark.sh suparunidic 'load(\"kinsei\",\"laboro-bert-japanese-large\")' maihime.conllu\n",
        "!curl -L https://raw.githubusercontent.com/KoichiYasuoka/UniDic2UD/master/benchmark/yukiguni-benchmark.tar.gz | tar xzf -\n",
        "!sh benchmark.sh suparunidic 'load(\"qkana\",\"laboro-bert-japanese-large\")' yukiguni.conllu\n",
        "!sh benchmark.sh suparunidic 'load(\"kindai\",\"laboro-bert-japanese-large\")' yukiguni.conllu\n",
        "!sh benchmark.sh suparunidic 'load(\"kinsei\",\"laboro-bert-japanese-large\")' yukiguni.conllu\n",
        "!curl -L https://raw.githubusercontent.com/KoichiYasuoka/UniDic2UD/master/benchmark/koyayori-benchmark.tar.gz | tar xzf -\n",
        "!sh benchmark.sh suparunidic 'load(\"qkana\",\"laboro-bert-japanese-large\")' koyayori.conllu\n",
        "!sh benchmark.sh suparunidic 'load(\"kindai\",\"laboro-bert-japanese-large\")' koyayori.conllu\n",
        "!sh benchmark.sh suparunidic 'load(\"kinsei\",\"laboro-bert-japanese-large\")' koyayori.conllu"
      ]
    },
    {
      "cell_type":"markdown",
      "metadata":{ "colab_type":"text" },
      "source":[
        "## nict-bert-base-japanese-100k"
      ]
    },
    {
      "cell_type":"code",
      "metadata":{ "colab_type":"code" },
      "source":[
        "!pip install suparunidic\n",
        "!curl -L https://raw.githubusercontent.com/KoichiYasuoka/UniDic2UD/master/benchmark/maihime-benchmark.tar.gz | tar xzf -\n",
        "!sh benchmark.sh suparunidic 'load(\"qkana\",\"nict-bert-base-japanese-100k\")' maihime.conllu\n",
        "!sh benchmark.sh suparunidic 'load(\"kindai\",\"nict-bert-base-japanese-100k\")' maihime.conllu\n",
        "!sh benchmark.sh suparunidic 'load(\"kinsei\",\"nict-bert-base-japanese-100k\")' maihime.conllu\n",
        "!curl -L https://raw.githubusercontent.com/KoichiYasuoka/UniDic2UD/master/benchmark/yukiguni-benchmark.tar.gz | tar xzf -\n",
        "!sh benchmark.sh suparunidic 'load(\"qkana\",\"nict-bert-base-japanese-100k\")' yukiguni.conllu\n",
        "!sh benchmark.sh suparunidic 'load(\"kindai\",\"nict-bert-base-japanese-100k\")' yukiguni.conllu\n",
        "!sh benchmark.sh suparunidic 'load(\"kinsei\",\"nict-bert-base-japanese-100k\")' yukiguni.conllu\n",
        "!curl -L https://raw.githubusercontent.com/KoichiYasuoka/UniDic2UD/master/benchmark/koyayori-benchmark.tar.gz | tar xzf -\n",
        "!sh benchmark.sh suparunidic 'load(\"qkana\",\"nict-bert-base-japanese-100k\")' koyayori.conllu\n",
        "!sh benchmark.sh suparunidic 'load(\"kindai\",\"nict-bert-base-japanese-100k\")' koyayori.conllu\n",
        "!sh benchmark.sh suparunidic 'load(\"kinsei\",\"nict-bert-base-japanese-100k\")' koyayori.conllu"
      ]
    },
    {
      "cell_type":"markdown",
      "metadata":{ "colab_type":"text" },
      "source":[
        "## unihanlm-base"
      ]
    },
    {
      "cell_type":"code",
      "metadata":{ "colab_type":"code" },
      "source":[
        "!pip install suparunidic\n",
        "!curl -L https://raw.githubusercontent.com/KoichiYasuoka/UniDic2UD/master/benchmark/maihime-benchmark.tar.gz | tar xzf -\n",
        "!sh benchmark.sh suparunidic 'load(\"qkana\",\"unihanlm-base\")' maihime.conllu\n",
        "!sh benchmark.sh suparunidic 'load(\"kindai\",\"unihanlm-base\")' maihime.conllu\n",
        "!sh benchmark.sh suparunidic 'load(\"kinsei\",\"unihanlm-base\")' maihime.conllu\n",
        "!curl -L https://raw.githubusercontent.com/KoichiYasuoka/UniDic2UD/master/benchmark/yukiguni-benchmark.tar.gz | tar xzf -\n",
        "!sh benchmark.sh suparunidic 'load(\"qkana\",\"unihanlm-base\")' yukiguni.conllu\n",
        "!sh benchmark.sh suparunidic 'load(\"kindai\",\"unihanlm-base\")' yukiguni.conllu\n",
        "!sh benchmark.sh suparunidic 'load(\"kinsei\",\"unihanlm-base\")' yukiguni.conllu\n",
        "!curl -L https://raw.githubusercontent.com/KoichiYasuoka/UniDic2UD/master/benchmark/koyayori-benchmark.tar.gz | tar xzf -\n",
        "!sh benchmark.sh suparunidic 'load(\"qkana\",\"unihanlm-base\")' koyayori.conllu\n",
        "!sh benchmark.sh suparunidic 'load(\"kindai\",\"unihanlm-base\")' koyayori.conllu\n",
        "!sh benchmark.sh suparunidic 'load(\"kinsei\",\"unihanlm-base\")' koyayori.conllu"
      ]
    },
    {
      "cell_type":"markdown",
      "metadata":{ "colab_type":"text" },
      "source":[
        "## distilbert-base-japanese"
      ]
    },
    {
      "cell_type":"code",
      "metadata":{ "colab_type":"code" },
      "source":[
        "!pip install suparunidic\n",
        "!curl -L https://raw.githubusercontent.com/KoichiYasuoka/UniDic2UD/master/benchmark/maihime-benchmark.tar.gz | tar xzf -\n",
        "!sh benchmark.sh suparunidic 'load(\"qkana\",\"distilbert-base-japanese\")' maihime.conllu\n",
        "!sh benchmark.sh suparunidic 'load(\"kindai\",\"distilbert-base-japanese\")' maihime.conllu\n",
        "!sh benchmark.sh suparunidic 'load(\"kinsei\",\"distilbert-base-japanese\")' maihime.conllu\n",
        "!curl -L https://raw.githubusercontent.com/KoichiYasuoka/UniDic2UD/master/benchmark/yukiguni-benchmark.tar.gz | tar xzf -\n",
        "!sh benchmark.sh suparunidic 'load(\"qkana\",\"distilbert-base-japanese\")' yukiguni.conllu\n",
        "!sh benchmark.sh suparunidic 'load(\"kindai\",\"distilbert-base-japanese\")' yukiguni.conllu\n",
        "!sh benchmark.sh suparunidic 'load(\"kinsei\",\"distilbert-base-japanese\")' yukiguni.conllu\n",
        "!curl -L https://raw.githubusercontent.com/KoichiYasuoka/UniDic2UD/master/benchmark/koyayori-benchmark.tar.gz | tar xzf -\n",
        "!sh benchmark.sh suparunidic 'load(\"qkana\",\"distilbert-base-japanese\")' koyayori.conllu\n",
        "!sh benchmark.sh suparunidic 'load(\"kindai\",\"distilbert-base-japanese\")' koyayori.conllu\n",
        "!sh benchmark.sh suparunidic 'load(\"kinsei\",\"distilbert-base-japanese\")' koyayori.conllu"
      ]
    }
  ]
}

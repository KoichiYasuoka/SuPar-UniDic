{
  "nbformat":4,
  "nbformat_minor":0,
  "metadata":{
    "colab":{ "name":"舞姬/雪國/荒野より-Benchmarks of SuPar-UniDic" },
    "kernelspec":{ "name":"python3" }
  },
  "cells":[
    {
      "cell_type":"markdown",
      "metadata":{ "colab_type":"text" },
      "source":[
        "# [舞姬/雪國/荒野より-Benchmarks](https://github.com/KoichiYasuoka/UniDic2UD/tree/master/benchmark) of [SuPar-UniDic](https://github.com/KoichiYasuoka/SuPar-UniDic)"
      ]
    },
    {
      "cell_type":"markdown",
      "metadata":{ "colab_type":"text" },
      "source":[
        "## bert-japanese-aozora6m3m-unidic32k-2m"
      ]
    },
    {
      "cell_type":"code",
      "metadata":{ "colab_type":"code" },
      "source":[
        "!pip install supar@git+https://github.com/yzhangcs/parser\n",
        "!pip install suparunidic\n",
        "!curl -L https://raw.githubusercontent.com/KoichiYasuoka/UniDic2UD/master/benchmark/maihime-benchmark.tar.gz | tar xzf -\n",
        "!sh benchmark.sh suparunidic 'load(\"kindai\",\"bert-japanese-aozora6m3m-unidic32k-2m\")' maihime.conllu\n",
        "!sh benchmark.sh suparunidic 'load(\"qkana\",\"bert-japanese-aozora6m3m-unidic32k-2m\")' maihime.conllu\n",
        "!sh benchmark.sh suparunidic 'load(\"kinsei\",\"bert-japanese-aozora6m3m-unidic32k-2m\")' maihime.conllu\n",
        "!curl -L https://raw.githubusercontent.com/KoichiYasuoka/UniDic2UD/master/benchmark/yukiguni-benchmark.tar.gz | tar xzf -\n",
        "!sh benchmark.sh suparunidic 'load(\"qkana\",\"bert-japanese-aozora6m3m-unidic32k-2m\")' yukiguni.conllu\n",
        "!sh benchmark.sh suparunidic 'load(\"kinsei\",\"bert-japanese-aozora6m3m-unidic32k-2m\")' yukiguni.conllu\n",
        "!sh benchmark.sh suparunidic 'load(\"kindai\",\"bert-japanese-aozora6m3m-unidic32k-2m\")' yukiguni.conllu\n",
        "!curl -L https://raw.githubusercontent.com/KoichiYasuoka/UniDic2UD/master/benchmark/koyayori-benchmark.tar.gz | tar xzf -\n",
        "!sh benchmark.sh suparunidic 'load(\"kindai\",\"bert-japanese-aozora6m3m-unidic32k-2m\")' koyayori.conllu\n",
        "!sh benchmark.sh suparunidic 'load(\"qkana\",\"bert-japanese-aozora6m3m-unidic32k-2m\")' koyayori.conllu\n",
        "!sh benchmark.sh suparunidic 'load(\"kinsei\",\"bert-japanese-aozora6m3m-unidic32k-2m\")' koyayori.conllu"
      ],
      "outputs":[
        {
          "output_type":"stream",
          "text":[
            "### suparunidic.load(\"kindai\",\"bert-japanese-aozora6m3m-unidic32k-2m\") maihime.conllu\n",
            "LAS F1 Score: 83.02\n",
            "MLAS Score: 66.67\n",
            "BLEX Score: 70.37\n",
            "### suparunidic.load(\"qkana\",\"bert-japanese-aozora6m3m-unidic32k-2m\") maihime.conllu\n",
            "LAS F1 Score: 81.13\n",
            "MLAS Score: 66.67\n",
            "BLEX Score: 70.37\n",
            "### suparunidic.load(\"kinsei\",\"bert-japanese-aozora6m3m-unidic32k-2m\") maihime.conllu\n",
            "LAS F1 Score: 72.22\n",
            "MLAS Score: 57.14\n",
            "BLEX Score: 57.14\n",
            "\n",
            "### suparunidic.load(\"qkana\",\"bert-japanese-aozora6m3m-unidic32k-2m\") yukiguni.conllu\n",
            "LAS F1 Score: 87.50\n",
            "MLAS Score: 81.63\n",
            "BLEX Score: 77.55\n",
            "### suparunidic.load(\"kinsei\",\"bert-japanese-aozora6m3m-unidic32k-2m\") yukiguni.conllu\n",
            "LAS F1 Score: 85.71\n",
            "MLAS Score: 83.33\n",
            "BLEX Score: 75.00\n",
            "### suparunidic.load(\"kindai\",\"bert-japanese-aozora6m3m-unidic32k-2m\") yukiguni.conllu\n",
            "LAS F1 Score: 83.19\n",
            "MLAS Score: 77.55\n",
            "BLEX Score: 73.47\n",
            "\n",
            "### suparunidic.load(\"kindai\",\"bert-japanese-aozora6m3m-unidic32k-2m\") koyayori.conllu\n",
            "LAS F1 Score: 68.06\n",
            "MLAS Score: 35.14\n",
            "BLEX Score: 45.95\n",
            "### suparunidic.load(\"qkana\",\"bert-japanese-aozora6m3m-unidic32k-2m\") koyayori.conllu\n",
            "LAS F1 Score: 63.87\n",
            "MLAS Score: 32.88\n",
            "BLEX Score: 43.84\n",
            "### suparunidic.load(\"kinsei\",\"bert-japanese-aozora6m3m-unidic32k-2m\") koyayori.conllu\n",
            "LAS F1 Score: 63.54\n",
            "MLAS Score: 29.73\n",
            "BLEX Score: 40.54\n",
            "\n"
          ]
        }
      ]
    }
  ]
}

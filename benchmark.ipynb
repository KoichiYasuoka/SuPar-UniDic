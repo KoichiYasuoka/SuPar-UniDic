{
  "nbformat":4,
  "nbformat_minor":0,
  "metadata":{
    "colab":{ "name":"舞姬/雪國/荒野より-Benchmarks of SuPar-UniDic" },
    "kernelspec":{ "name":"python3" }
  },
  "cells":[
    {
      "cell_type":"markdown",
      "metadata":{ "colab_type":"text" },
      "source":[
        "# [舞姬/雪國/荒野より-Benchmarks](https://github.com/KoichiYasuoka/UniDic2UD/tree/master/benchmark) of [SuPar-UniDic](https://github.com/KoichiYasuoka/SuPar-UniDic)"
      ]
    },
    {
      "cell_type":"markdown",
      "metadata":{ "colab_type":"text" },
      "source":[
        "## bert-japanese-aozora6m3m-unidic32k-2m"
      ]
    },
    {
      "cell_type":"code",
      "metadata":{ "colab_type":"code" },
      "source":[
        "!pip install supar@git+https://github.com/yzhangcs/parser\n",
        "!pip install suparunidic\n",
        "!curl -L https://raw.githubusercontent.com/KoichiYasuoka/UniDic2UD/master/benchmark/maihime-benchmark.tar.gz | tar xzf -\n",
        "!sh benchmark.sh suparunidic 'load(\"qkana\",\"bert-japanese-aozora6m3m-unidic32k-2m\")' maihime.conllu\n",
        "!sh benchmark.sh suparunidic 'load(\"kindai\",\"bert-japanese-aozora6m3m-unidic32k-2m\")' maihime.conllu\n",
        "!sh benchmark.sh suparunidic 'load(\"kinsei\",\"bert-japanese-aozora6m3m-unidic32k-2m\")' maihime.conllu\n",
        "!curl -L https://raw.githubusercontent.com/KoichiYasuoka/UniDic2UD/master/benchmark/yukiguni-benchmark.tar.gz | tar xzf -\n",
        "!sh benchmark.sh suparunidic 'load(\"qkana\",\"bert-japanese-aozora6m3m-unidic32k-2m\")' yukiguni.conllu\n",
        "!sh benchmark.sh suparunidic 'load(\"kindai\",\"bert-japanese-aozora6m3m-unidic32k-2m\")' yukiguni.conllu\n",
        "!sh benchmark.sh suparunidic 'load(\"kinsei\",\"bert-japanese-aozora6m3m-unidic32k-2m\")' yukiguni.conllu\n",
        "!curl -L https://raw.githubusercontent.com/KoichiYasuoka/UniDic2UD/master/benchmark/koyayori-benchmark.tar.gz | tar xzf -\n",
        "!sh benchmark.sh suparunidic 'load(\"qkana\",\"bert-japanese-aozora6m3m-unidic32k-2m\")' koyayori.conllu\n",
        "!sh benchmark.sh suparunidic 'load(\"kindai\",\"bert-japanese-aozora6m3m-unidic32k-2m\")' koyayori.conllu\n",
        "!sh benchmark.sh suparunidic 'load(\"kinsei\",\"bert-japanese-aozora6m3m-unidic32k-2m\")' koyayori.conllu"
      ]
    },
    {
      "cell_type":"markdown",
      "metadata":{ "colab_type":"text" },
      "source":[
        "## bert-base-japanese-whole-word-masking"
      ]
    },
    {
      "cell_type":"code",
      "metadata":{ "colab_type":"code" },
      "source":[
        "!pip install supar@git+https://github.com/yzhangcs/parser\n",
        "!pip install suparunidic fugashi ipadic sentencepiece\n",
        "!curl -L https://raw.githubusercontent.com/KoichiYasuoka/UniDic2UD/master/benchmark/maihime-benchmark.tar.gz | tar xzf -\n",
        "!sh benchmark.sh suparunidic 'load(\"qkana\",\"bert-base-japanese-whole-word-masking\")' maihime.conllu\n",
        "!sh benchmark.sh suparunidic 'load(\"kindai\",\"bert-base-japanese-whole-word-masking\")' maihime.conllu\n",
        "!sh benchmark.sh suparunidic 'load(\"kinsei\",\"bert-base-japanese-whole-word-masking\")' maihime.conllu\n",
        "!curl -L https://raw.githubusercontent.com/KoichiYasuoka/UniDic2UD/master/benchmark/yukiguni-benchmark.tar.gz | tar xzf -\n",
        "!sh benchmark.sh suparunidic 'load(\"qkana\",\"bert-base-japanese-whole-word-masking\")' yukiguni.conllu\n",
        "!sh benchmark.sh suparunidic 'load(\"kindai\",\"bert-base-japanese-whole-word-masking\")' yukiguni.conllu\n",
        "!sh benchmark.sh suparunidic 'load(\"kinsei\",\"bert-base-japanese-whole-word-masking\")' yukiguni.conllu\n",
        "!curl -L https://raw.githubusercontent.com/KoichiYasuoka/UniDic2UD/master/benchmark/koyayori-benchmark.tar.gz | tar xzf -\n",
        "!sh benchmark.sh suparunidic 'load(\"qkana\",\"bert-base-japanese-whole-word-masking\")' koyayori.conllu\n",
        "!sh benchmark.sh suparunidic 'load(\"kindai\",\"bert-base-japanese-whole-word-masking\")' koyayori.conllu\n",
        "!sh benchmark.sh suparunidic 'load(\"kinsei\",\"bert-base-japanese-whole-word-masking\")' koyayori.conllu"
      ]
    },
    {
      "cell_type":"markdown",
      "metadata":{ "colab_type":"text" },
      "source":[
        "## nict-bert-base-japanese-100k"
      ]
    },
    {
      "cell_type":"code",
      "metadata":{ "colab_type":"code" },
      "source":[
        "!pip install supar@git+https://github.com/yzhangcs/parser\n",
        "!pip install suparunidic\n",
        "!curl -L https://raw.githubusercontent.com/KoichiYasuoka/UniDic2UD/master/benchmark/maihime-benchmark.tar.gz | tar xzf -\n",
        "!sh benchmark.sh suparunidic 'load(\"qkana\",\"nict-bert-base-japanese-100k\")' maihime.conllu\n",
        "!sh benchmark.sh suparunidic 'load(\"kindai\",\"nict-bert-base-japanese-100k\")' maihime.conllu\n",
        "!sh benchmark.sh suparunidic 'load(\"kinsei\",\"nict-bert-base-japanese-100k\")' maihime.conllu\n",
        "!curl -L https://raw.githubusercontent.com/KoichiYasuoka/UniDic2UD/master/benchmark/yukiguni-benchmark.tar.gz | tar xzf -\n",
        "!sh benchmark.sh suparunidic 'load(\"qkana\",\"nict-bert-base-japanese-100k\")' yukiguni.conllu\n",
        "!sh benchmark.sh suparunidic 'load(\"kindai\",\"nict-bert-base-japanese-100k\")' yukiguni.conllu\n",
        "!sh benchmark.sh suparunidic 'load(\"kinsei\",\"nict-bert-base-japanese-100k\")' yukiguni.conllu\n",
        "!curl -L https://raw.githubusercontent.com/KoichiYasuoka/UniDic2UD/master/benchmark/koyayori-benchmark.tar.gz | tar xzf -\n",
        "!sh benchmark.sh suparunidic 'load(\"qkana\",\"nict-bert-base-japanese-100k\")' koyayori.conllu\n",
        "!sh benchmark.sh suparunidic 'load(\"kindai\",\"nict-bert-base-japanese-100k\")' koyayori.conllu\n",
        "!sh benchmark.sh suparunidic 'load(\"kinsei\",\"nict-bert-base-japanese-100k\")' koyayori.conllu"
      ]
    },
    {
      "cell_type":"markdown",
      "metadata":{ "colab_type":"text" },
      "source":[
        "## unihanlm-base"
      ]
    },
    {
      "cell_type":"code",
      "metadata":{ "colab_type":"code" },
      "source":[
        "!pip install supar@git+https://github.com/yzhangcs/parser\n",
        "!pip install suparunidic\n",
        "!curl -L https://raw.githubusercontent.com/KoichiYasuoka/UniDic2UD/master/benchmark/maihime-benchmark.tar.gz | tar xzf -\n",
        "!sh benchmark.sh suparunidic 'load(\"qkana\",\"unihanlm-base\")' maihime.conllu\n",
        "!sh benchmark.sh suparunidic 'load(\"kindai\",\"unihanlm-base\")' maihime.conllu\n",
        "!sh benchmark.sh suparunidic 'load(\"kinsei\",\"unihanlm-base\")' maihime.conllu\n",
        "!curl -L https://raw.githubusercontent.com/KoichiYasuoka/UniDic2UD/master/benchmark/yukiguni-benchmark.tar.gz | tar xzf -\n",
        "!sh benchmark.sh suparunidic 'load(\"qkana\",\"unihanlm-base\")' yukiguni.conllu\n",
        "!sh benchmark.sh suparunidic 'load(\"kindai\",\"unihanlm-base\")' yukiguni.conllu\n",
        "!sh benchmark.sh suparunidic 'load(\"kinsei\",\"unihanlm-base\")' yukiguni.conllu\n",
        "!curl -L https://raw.githubusercontent.com/KoichiYasuoka/UniDic2UD/master/benchmark/koyayori-benchmark.tar.gz | tar xzf -\n",
        "!sh benchmark.sh suparunidic 'load(\"qkana\",\"unihanlm-base\")' koyayori.conllu\n",
        "!sh benchmark.sh suparunidic 'load(\"kindai\",\"unihanlm-base\")' koyayori.conllu\n",
        "!sh benchmark.sh suparunidic 'load(\"kinsei\",\"unihanlm-base\")' koyayori.conllu"
      ]
    },
    {
      "cell_type":"markdown",
      "metadata":{ "colab_type":"text" },
      "source":[
        "## distilbert-base-japanese"
      ]
    },
    {
      "cell_type":"code",
      "metadata":{ "colab_type":"code" },
      "source":[
        "!pip install supar@git+https://github.com/yzhangcs/parser\n",
        "!pip install suparunidic sentencepiece\n",
        "!curl -L https://raw.githubusercontent.com/KoichiYasuoka/UniDic2UD/master/benchmark/maihime-benchmark.tar.gz | tar xzf -\n",
        "!sh benchmark.sh suparunidic 'load(\"qkana\",\"distilbert-base-japanese\")' maihime.conllu\n",
        "!sh benchmark.sh suparunidic 'load(\"kindai\",\"distilbert-base-japanese\")' maihime.conllu\n",
        "!sh benchmark.sh suparunidic 'load(\"kinsei\",\"distilbert-base-japanese\")' maihime.conllu\n",
        "!curl -L https://raw.githubusercontent.com/KoichiYasuoka/UniDic2UD/master/benchmark/yukiguni-benchmark.tar.gz | tar xzf -\n",
        "!sh benchmark.sh suparunidic 'load(\"qkana\",\"distilbert-base-japanese\")' yukiguni.conllu\n",
        "!sh benchmark.sh suparunidic 'load(\"kindai\",\"distilbert-base-japanese\")' yukiguni.conllu\n",
        "!sh benchmark.sh suparunidic 'load(\"kinsei\",\"distilbert-base-japanese\")' yukiguni.conllu\n",
        "!curl -L https://raw.githubusercontent.com/KoichiYasuoka/UniDic2UD/master/benchmark/koyayori-benchmark.tar.gz | tar xzf -\n",
        "!sh benchmark.sh suparunidic 'load(\"qkana\",\"distilbert-base-japanese\")' koyayori.conllu\n",
        "!sh benchmark.sh suparunidic 'load(\"kindai\",\"distilbert-base-japanese\")' koyayori.conllu\n",
        "!sh benchmark.sh suparunidic 'load(\"kinsei\",\"distilbert-base-japanese\")' koyayori.conllu"
      ]
    }
  ]
}
